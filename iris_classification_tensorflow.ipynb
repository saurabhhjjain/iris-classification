{
  "nbformat": 4,
  "nbformat_minor": 0,
  "metadata": {
    "colab": {
      "name": "iris_classification_tensorflow.ipynb",
      "version": "0.3.2",
      "provenance": []
    },
    "kernelspec": {
      "name": "python3",
      "display_name": "Python 3"
    }
  },
  "cells": [
    {
      "metadata": {
        "id": "pf8ipJIm8jX6",
        "colab_type": "code",
        "colab": {
          "base_uri": "https://localhost:8080/",
          "height": 50
        },
        "outputId": "cc36c567-92db-4e5d-e4e1-df813d47fcd0"
      },
      "cell_type": "code",
      "source": [
        "from __future__ import division, print_function, absolute_import\n",
        "import tensorflow as tf\n",
        "import os\n",
        "import matplotlib.pyplot as plt\n",
        "\n",
        "tf.enable_eager_execution()\n",
        "\n",
        "print('Tensorflow version: {}'.format(tf.__version__))\n",
        "print('Eager execution: {}'.format(tf.executing_eagerly()))"
      ],
      "execution_count": 3,
      "outputs": [
        {
          "output_type": "stream",
          "text": [
            "Tensorflow version: 1.13.1\n",
            "Eager execution: True\n"
          ],
          "name": "stdout"
        }
      ]
    },
    {
      "metadata": {
        "id": "FABb8fnC9F6g",
        "colab_type": "code",
        "colab": {
          "base_uri": "https://localhost:8080/",
          "height": 87
        },
        "outputId": "e67e6870-a2e9-450f-85b5-53e18b36dfe1"
      },
      "cell_type": "code",
      "source": [
        "train_dataset_url = \"https://storage.googleapis.com/download.tensorflow.org/data/iris_training.csv\"\n",
        "train_dataset_fp = tf.keras.utils.get_file(fname=os.path.basename(train_dataset_url), origin=train_dataset_url)\n",
        "\n",
        "print('train dataset file: {}'.format(train_dataset_fp))"
      ],
      "execution_count": 4,
      "outputs": [
        {
          "output_type": "stream",
          "text": [
            "Downloading data from https://storage.googleapis.com/download.tensorflow.org/data/iris_training.csv\n",
            "\r8192/2194 [================================================================================================================] - 0s 0us/step\n",
            "train dataset file: /root/.keras/datasets/iris_training.csv\n"
          ],
          "name": "stdout"
        }
      ]
    },
    {
      "metadata": {
        "id": "iEuwNfIrAujO",
        "colab_type": "code",
        "colab": {
          "base_uri": "https://localhost:8080/",
          "height": 101
        },
        "outputId": "3b178c80-81fb-4d70-abaf-f7a1a0020c3b"
      },
      "cell_type": "code",
      "source": [
        "!head -n5 {train_dataset_fp}"
      ],
      "execution_count": 8,
      "outputs": [
        {
          "output_type": "stream",
          "text": [
            "120,4,setosa,versicolor,virginica\n",
            "6.4,2.8,5.6,2.2,2\n",
            "5.0,2.3,3.3,1.0,1\n",
            "4.9,2.5,4.5,1.7,2\n",
            "4.9,3.1,1.5,0.1,0\n"
          ],
          "name": "stdout"
        }
      ]
    },
    {
      "metadata": {
        "id": "5HlCAg7UA8O0",
        "colab_type": "code",
        "colab": {
          "base_uri": "https://localhost:8080/",
          "height": 50
        },
        "outputId": "e411739c-9ff0-46b4-ed5c-b8fbc3f7f906"
      },
      "cell_type": "code",
      "source": [
        "column_names = ['sepal_length', 'sepal_width', 'petal_length', 'petal_width', 'species']\n",
        "\n",
        "feature_names = column_names[:-1]\n",
        "label_name = column_names[-1]\n",
        "\n",
        "print('feature names: {}'.format(feature_names))\n",
        "print('label name: {}'.format(label_name))"
      ],
      "execution_count": 10,
      "outputs": [
        {
          "output_type": "stream",
          "text": [
            "feature names: ['sepal_length', 'sepal_width', 'petal_length', 'petal_width']\n",
            "label name: species\n"
          ],
          "name": "stdout"
        }
      ]
    },
    {
      "metadata": {
        "id": "A-j4E6FoD1Rb",
        "colab_type": "code",
        "colab": {}
      },
      "cell_type": "code",
      "source": [
        "class_names = ['Iris setosa', 'Iris versicolor', 'Iris virginica']"
      ],
      "execution_count": 0,
      "outputs": []
    },
    {
      "metadata": {
        "id": "BPQGPNS7GCiu",
        "colab_type": "code",
        "colab": {}
      },
      "cell_type": "code",
      "source": [
        "train_dataset = tf.data.experimental.make_csv_dataset(file_pattern=train_dataset_fp, batch_size=32, column_names=column_names, label_name=label_name,\n",
        "                                     num_epochs=1)"
      ],
      "execution_count": 0,
      "outputs": []
    },
    {
      "metadata": {
        "id": "Uu3lfdx-HZCG",
        "colab_type": "code",
        "colab": {
          "base_uri": "https://localhost:8080/",
          "height": 353
        },
        "outputId": "02cf0779-f59a-4647-d602-7e1f293bcef3"
      },
      "cell_type": "code",
      "source": [
        "features, labels = next(iter(train_dataset))\n",
        "\n",
        "features"
      ],
      "execution_count": 19,
      "outputs": [
        {
          "output_type": "execute_result",
          "data": {
            "text/plain": [
              "OrderedDict([('sepal_length',\n",
              "              <tf.Tensor: id=110, shape=(32,), dtype=float32, numpy=\n",
              "              array([6.3, 6.9, 4.9, 6.5, 6.4, 5. , 6.2, 5. , 4.6, 4.5, 4.4, 6. , 5.6,\n",
              "                     6.8, 5. , 4.6, 5.1, 5.1, 6.6, 4.9, 5. , 5.4, 6. , 6.8, 5.2, 6.1,\n",
              "                     6.6, 7.2, 6.9, 7.7, 5.5, 5.5], dtype=float32)>),\n",
              "             ('sepal_width',\n",
              "              <tf.Tensor: id=111, shape=(32,), dtype=float32, numpy=\n",
              "              array([3.4, 3.2, 3.1, 3. , 2.8, 2.3, 2.8, 3.4, 3.6, 2.3, 3. , 3. , 2.5,\n",
              "                     3.2, 3.5, 3.1, 3.8, 3.8, 3. , 2.5, 3.2, 3.9, 2.9, 2.8, 3.4, 2.8,\n",
              "                     2.9, 3. , 3.1, 2.8, 2.4, 3.5], dtype=float32)>),\n",
              "             ('petal_length',\n",
              "              <tf.Tensor: id=108, shape=(32,), dtype=float32, numpy=\n",
              "              array([5.6, 5.7, 1.5, 5.2, 5.6, 3.3, 4.8, 1.6, 1. , 1.3, 1.3, 4.8, 3.9,\n",
              "                     5.9, 1.6, 1.5, 1.5, 1.6, 4.4, 4.5, 1.2, 1.3, 4.5, 4.8, 1.4, 4.7,\n",
              "                     4.6, 5.8, 4.9, 6.7, 3.7, 1.3], dtype=float32)>),\n",
              "             ('petal_width',\n",
              "              <tf.Tensor: id=109, shape=(32,), dtype=float32, numpy=\n",
              "              array([2.4, 2.3, 0.1, 2. , 2.1, 1. , 1.8, 0.4, 0.2, 0.3, 0.2, 1.8, 1.1,\n",
              "                     2.3, 0.6, 0.2, 0.3, 0.2, 1.4, 1.7, 0.2, 0.4, 1.5, 1.4, 0.2, 1.2,\n",
              "                     1.3, 1.6, 1.5, 2. , 1. , 0.2], dtype=float32)>)])"
            ]
          },
          "metadata": {
            "tags": []
          },
          "execution_count": 19
        }
      ]
    },
    {
      "metadata": {
        "id": "bs0-wLC8MRiS",
        "colab_type": "code",
        "colab": {
          "base_uri": "https://localhost:8080/",
          "height": 34
        },
        "outputId": "71d34395-a300-4693-e2e3-ba3455138717"
      },
      "cell_type": "code",
      "source": [
        "type(features.values())"
      ],
      "execution_count": 25,
      "outputs": [
        {
          "output_type": "execute_result",
          "data": {
            "text/plain": [
              "odict_values"
            ]
          },
          "metadata": {
            "tags": []
          },
          "execution_count": 25
        }
      ]
    },
    {
      "metadata": {
        "id": "PiwH7eA6HnKi",
        "colab_type": "code",
        "colab": {
          "base_uri": "https://localhost:8080/",
          "height": 382
        },
        "outputId": "000b1fea-4bf6-4706-a6a7-912982c450a9"
      },
      "cell_type": "code",
      "source": [
        "plt.scatter(x=features['sepal_length'], y=features['petal_length'], c=labels.numpy(), cmap='viridis')\n",
        "plt.xlabel('sepal length')\n",
        ":plt.ylabel('petal length')"
      ],
      "execution_count": 24,
      "outputs": [
        {
          "output_type": "execute_result",
          "data": {
            "text/plain": [
              "Text(0, 0.5, 'petal length')"
            ]
          },
          "metadata": {
            "tags": []
          },
          "execution_count": 24
        },
        {
          "output_type": "display_data",
          "data": {
            "image/png": "[encoded data removed]",
            "text/plain": [
              "<Figure size 576x396 with 1 Axes>"
            ]
          },
          "metadata": {
            "tags": []
          }
        }
      ]
    },
    {
      "metadata": {
        "id": "UlOsNmtKHqT_",
        "colab_type": "code",
        "colab": {}
      },
      "cell_type": "code",
      "source": [
        "def pack_features_vector(features, labels):\n",
        "  datasets = tf.stack(list(features.values()), axis=1)\n",
        "  return datasets, labels"
      ],
      "execution_count": 0,
      "outputs": []
    },
    {
      "metadata": {
        "id": "HmK986lFM0be",
        "colab_type": "code",
        "colab": {}
      },
      "cell_type": "code",
      "source": [
        "train_dataset = train_dataset.map(pack_features_vector)"
      ],
      "execution_count": 0,
      "outputs": []
    },
    {
      "metadata": {
        "id": "s5UEzpo7NG5J",
        "colab_type": "code",
        "colab": {
          "base_uri": "https://localhost:8080/",
          "height": 118
        },
        "outputId": "887194eb-6a67-4ce5-963e-03457ed53874"
      },
      "cell_type": "code",
      "source": [
        "features, labels = next(iter(train_dataset))\n",
        "features[:5]"
      ],
      "execution_count": 29,
      "outputs": [
        {
          "output_type": "execute_result",
          "data": {
            "text/plain": [
              "<tf.Tensor: id=213, shape=(5, 4), dtype=float32, numpy=\n",
              "array([[5.4, 3.4, 1.5, 0.4],\n",
              "       [4.8, 3.1, 1.6, 0.2],\n",
              "       [6.3, 3.3, 4.7, 1.6],\n",
              "       [6.8, 2.8, 4.8, 1.4],\n",
              "       [5. , 2. , 3.5, 1. ]], dtype=float32)>"
            ]
          },
          "metadata": {
            "tags": []
          },
          "execution_count": 29
        }
      ]
    },
    {
      "metadata": {
        "id": "ajqPMTtlNQ3H",
        "colab_type": "code",
        "colab": {}
      },
      "cell_type": "code",
      "source": [
        ""
      ],
      "execution_count": 0,
      "outputs": []
    }
  ]
}